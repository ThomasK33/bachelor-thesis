


%pip install pandas matplotlib


import pandas as pd
pd.__version__

%matplotlib inline
import matplotlib.pyplot as plt





def plot_scenario(scenario):
    df_default = pd.read_csv(f"measurements/scenario-{scenario}/default-scheduler.csv", delimiter=";")
    df_nes = pd.read_csv(f"measurements/scenario-{scenario}/network-extended-scheduler.csv", delimiter=";")

    plot_for(scenario, df_default, df_nes, "cpu_percentage", "CPU usage in core percentages")
    plot_for(scenario, df_default, df_nes, "memory", "Memory in MiB")

    plot_for_delta(scenario, df_default, df_nes, "cpu_percentage", "CPU usage in core percentages")
    plot_for_delta(scenario, df_default, df_nes, "memory", "Memory in MiB")

means = {
    "default": { 1: {}, 2: {}, 3: {}, 4: {} },
    "nes": { 1: {}, 2: {}, 3: {}, 4: {} },
}

def plot_for(scenario, df_default, df_nes, y, ylabel):
    fig, ax = plt.subplots()
    
    ax1 = df_default.plot(color="blue", grid=True, label="Default Scheduler", linestyle="solid", y=y, x="time", ax=ax)
    ax2 = df_nes.plot(color="red", grid=True, secondary_y=False, label="Network Extended Scheduler", linestyle="dotted", y=y, x="time", ax=ax)

    fontsize=14
    
    plt.xlabel("Time in seconds", fontsize=fontsize, weight="bold")
    plt.ylabel(ylabel, fontsize=fontsize, weight="bold")
    
    plt.legend()
    plt.savefig(f"charts/scenario-{scenario}-{y}.pdf", format="pdf")
    plt.show()

    df = df_default[y]
    mean = df.mean()
    print(f"Mean default {ylabel}: {mean}")

    means["default"][scenario][y] = mean

    df = df_nes[y]
    mean = df.mean()
    print(f"Mean nes {ylabel}: {mean}")

    means["nes"][scenario][y] = mean

def plot_for_delta(scenario, df_default, df_nes, y, ylabel):
    fig, ax = plt.subplots()

    df = df_nes[y] - df_default[y]
    
    ax1 = df.plot(color="blue", grid=True, label="Delta", linestyle="solid", y=y, x="time", ax=ax)

    fontsize=14
    
    plt.xlabel("Time in seconds", fontsize=fontsize, weight="bold")
    plt.ylabel(ylabel, fontsize=fontsize, weight="bold")
    
    plt.legend()
    plt.savefig(f"charts/scenario-delta-{scenario}-{y}.pdf", format="pdf")
    plt.show()

    mean = df.mean()
    
    print(f"Mean Delta {ylabel}: {mean}")





plot_scenario(1)





plot_scenario(2)





plot_scenario(3)





plot_scenario(4)





means


def mean(scheduler, key):
    return (means[scheduler][1][key] + means[scheduler][2][key] + means[scheduler][3][key] + means[scheduler][4][key]) / 4


mean("default", "cpu_percentage")


mean("nes", "cpu_percentage")


mean("default", "memory")


mean("nes", "memory")



